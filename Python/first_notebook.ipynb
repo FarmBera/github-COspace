{
 "cells": [
  {
   "cell_type": "code",
   "execution_count": 8,
   "metadata": {},
   "outputs": [
    {
     "name": "stdout",
     "output_type": "stream",
     "text": [
      "hei\n"
     ]
    }
   ],
   "source": [
    "# Kernal connection test code\n",
    "print('hei')"
   ]
  },
  {
   "cell_type": "code",
   "execution_count": 9,
   "metadata": {},
   "outputs": [],
   "source": [
    "import sys"
   ]
  },
  {
   "cell_type": "code",
   "execution_count": 10,
   "metadata": {},
   "outputs": [
    {
     "data": {
      "text/plain": [
       "'3.11.4 (tags/v3.11.4:d2340ef, Jun  7 2023, 05:45:37) [MSC v.1934 64 bit (AMD64)]'"
      ]
     },
     "execution_count": 10,
     "metadata": {},
     "output_type": "execute_result"
    }
   ],
   "source": [
    "sys.version"
   ]
  },
  {
   "cell_type": "code",
   "execution_count": 30,
   "metadata": {},
   "outputs": [
    {
     "name": "stdout",
     "output_type": "stream",
     "text": [
      "[0, 1, 2, 3, 4, 5, 6, 7, 8, 9]\n",
      "[1, 4, 7]\n",
      "[9, 8, 7, 6, 5, 4, 3, 2, 1, 0]\n",
      "['홀', '짝', '홀', '짝', '홀', '짝', '홀', '짝', '홀', '짝']\n"
     ]
    }
   ],
   "source": [
    "print([i for i in range(10)])\n",
    "print([i for i in range(10) if (i % 3 == 1)])\n",
    "print([i for i in range(9, -1, -1)])\n",
    "\n",
    "# 2로 나누었을 때, 나머지가 0이면 짝수, 나머지 있으면 홀수\n",
    "\n",
    "i = 10\n",
    "# result = ['짝' if (i % 2 == 0) else '홀']\n",
    "result = ['홀' if (i % 2 == 0) else '짝' for i in range(10)]\n",
    "# result = ['짝' if (i % 2 != 0) '홀']\n",
    "print(result)"
   ]
  },
  {
   "cell_type": "code",
   "execution_count": 33,
   "metadata": {},
   "outputs": [
    {
     "name": "stdout",
     "output_type": "stream",
     "text": [
      "0: 짝수\n",
      "1: 홀수\n",
      "2: 짝수\n",
      "3: 홀수\n",
      "4: 짝수\n",
      "5: 홀수\n",
      "6: 짝수\n",
      "7: 홀수\n",
      "8: 짝수\n",
      "9: 홀수\n"
     ]
    }
   ],
   "source": [
    "for i in range(10):\n",
    "    if (i % 2 == 0): print('%d: 짝수' % i)\n",
    "    else: print('%d: 홀수' % i)\n",
    "        "
   ]
  },
  {
   "cell_type": "code",
   "execution_count": 13,
   "metadata": {},
   "outputs": [
    {
     "data": {
      "text/plain": [
       "20"
      ]
     },
     "execution_count": 13,
     "metadata": {},
     "output_type": "execute_result"
    }
   ],
   "source": [
    "a, b = 10, 20\n",
    "a\n",
    "b\n",
    "# 맨 마자막에 변수를 써주면 print(b) 와 같아짐"
   ]
  },
  {
   "cell_type": "code",
   "execution_count": 14,
   "metadata": {},
   "outputs": [
    {
     "name": "stdout",
     "output_type": "stream",
     "text": [
      "3.14\n",
      "3.141592\n",
      "3.14 3.141592\n"
     ]
    }
   ],
   "source": [
    "c, d = 3.14, 3.141592\n",
    "c\n",
    "d\n",
    "# print(c, d)\n",
    "\n",
    "print(c)\n",
    "print(d)\n",
    "print(c, d)"
   ]
  }
 ],
 "metadata": {
  "kernelspec": {
   "display_name": "base",
   "language": "python",
   "name": "python3"
  },
  "language_info": {
   "codemirror_mode": {
    "name": "ipython",
    "version": 3
   },
   "file_extension": ".py",
   "mimetype": "text/x-python",
   "name": "python",
   "nbconvert_exporter": "python",
   "pygments_lexer": "ipython3",
   "version": "3.11.4"
  },
  "orig_nbformat": 4
 },
 "nbformat": 4,
 "nbformat_minor": 2
}
